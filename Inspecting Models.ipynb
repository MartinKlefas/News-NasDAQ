{
 "cells": [
  {
   "attachments": {},
   "cell_type": "markdown",
   "metadata": {},
   "source": [
    "In our 'explore.py' we've tried a number of models and a number of different training durations for each. In this notebook we'll explore if any of them are any good."
   ]
  },
  {
   "cell_type": "code",
   "execution_count": 24,
   "metadata": {},
   "outputs": [],
   "source": [
    "import os\n",
    "import pickle\n",
    "\n",
    "x_test = pickle.load(open(\"models/x_test.pkl\",\"rb\"))\n",
    "y_test = pickle.load(open(\"models/y_test.pkl\",\"rb\"))\n",
    "\n",
    "models = dict()\n",
    "for dirname, _, filenames in os.walk(\"models/\"):\n",
    "        for filename in filenames:\n",
    "\n",
    "            if not \"_\" in filename:\n",
    "                thisFile = os.path.join(dirname, filename)\n",
    "                thisModel = pickle.load(open(thisFile,\"rb\"))\n",
    "                models[filename] = thisModel\n",
    "\n"
   ]
  },
  {
   "cell_type": "code",
   "execution_count": 19,
   "metadata": {},
   "outputs": [
    {
     "name": "stdout",
     "output_type": "stream",
     "text": [
      "{1: -44.06653551398509, 2: -333.49716467779524, 3: -39.443074805648855, 4: -1.5862798677407959, 5: -0.2566079206389422, 6: -0.06329203911495584, 7: -0.06329203911495584}\n"
     ]
    }
   ],
   "source": [
    "from sklearn.metrics import r2_score\n",
    "\n",
    "solver_name = \"lbfgs\"\n",
    "\n",
    "errors = dict()\n",
    "for iter in range(1,8):\n",
    "    strName = f\"{solver_name} - {iter}.pkl\"\n",
    "    Y_Predict = models[strName].predict(x_test)\n",
    "    errors[iter] = r2_score(y_test,Y_Predict)\n",
    "\n",
    "print(errors)"
   ]
  },
  {
   "attachments": {},
   "cell_type": "markdown",
   "metadata": {},
   "source": [
    "That's not good! Negatives means that we have a model so bad that we'd do better with random noise!\n",
    "Let's look at the alternative scoring method"
   ]
  },
  {
   "cell_type": "code",
   "execution_count": 8,
   "metadata": {},
   "outputs": [
    {
     "name": "stdout",
     "output_type": "stream",
     "text": [
      "{1: -44.06653551398509, 2: -333.49716467779524, 3: -39.443074805648855, 4: -1.5862798677407959, 5: -0.2566079206389422, 6: -0.06329203911495584, 7: -0.06329203911495584}\n"
     ]
    }
   ],
   "source": [
    "from sklearn.neural_network import MLPRegressor\n",
    "solver_name = \"lbfgs\"\n",
    "\n",
    "errors = dict()\n",
    "for iter in range(1,8):\n",
    "    strName = f\"{solver_name} - {iter}.pkl\"\n",
    "    \n",
    "    errors[iter] = models[strName].score(x_test,y_test)\n",
    "\n",
    "print(errors)\n"
   ]
  },
  {
   "attachments": {},
   "cell_type": "markdown",
   "metadata": {},
   "source": [
    "OK, so the predictions are terrible. Can we visualise the least terrible ones?"
   ]
  },
  {
   "cell_type": "code",
   "execution_count": 28,
   "metadata": {},
   "outputs": [
    {
     "data": {
      "image/png": "[encoded data removed]",
      "text/plain": [
       "<Figure size 640x480 with 1 Axes>"
      ]
     },
     "metadata": {},
     "output_type": "display_data"
    }
   ],
   "source": [
    "import matplotlib.pyplot as plt\n",
    "import math\n",
    "\n",
    "x_values = range(len(y_test))\n",
    "\n",
    "plt.scatter(x_values[0:20],y_test[0:20])\n",
    "plt.scatter(x_values[0:20],Y_Predict[0:20])\n",
    "#plt.ylim(-0.02,0.02)\n",
    "plt.show()"
   ]
  },
  {
   "attachments": {},
   "cell_type": "markdown",
   "metadata": {},
   "source": [
    "Awful. And that concludes today's work."
   ]
  }
 ],
 "metadata": {
  "kernelspec": {
   "display_name": "nlp-headlines",
   "language": "python",
   "name": "python3"
  },
  "language_info": {
   "codemirror_mode": {
    "name": "ipython",
    "version": 3
   },
   "file_extension": ".py",
   "mimetype": "text/x-python",
   "name": "python",
   "nbconvert_exporter": "python",
   "pygments_lexer": "ipython3",
   "version": "3.11.2"
  },
  "orig_nbformat": 4
 },
 "nbformat": 4,
 "nbformat_minor": 2
}
