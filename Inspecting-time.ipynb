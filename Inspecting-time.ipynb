{
 "cells": [
  {
   "attachments": {},
   "cell_type": "markdown",
   "metadata": {},
   "source": [
    "In our 'explore_dates.py' we've tried a number of models and a number of different training durations for each. In this notebook we'll explore if any of them are any good."
   ]
  },
  {
   "cell_type": "code",
   "execution_count": 6,
   "metadata": {},
   "outputs": [],
   "source": [
    "import os\n",
    "import pickle\n",
    "\n",
    "x_test = pickle.load(open(\"models/d+1_x_test.pkl\",\"rb\"))\n",
    "y_test = pickle.load(open(\"models/d+1_y_test.pkl\",\"rb\"))\n",
    "\n",
    "models = dict()\n",
    "for dirname, _, filenames in os.walk(\"models/\"):\n",
    "        for filename in filenames:\n",
    "\n",
    "            if \"d+1\" in filename:\n",
    "                thisFile = os.path.join(dirname, filename)\n",
    "                thisModel = pickle.load(open(thisFile,\"rb\"))\n",
    "                models[filename] = thisModel\n",
    "\n"
   ]
  },
  {
   "attachments": {},
   "cell_type": "markdown",
   "metadata": {},
   "source": [
    "Let's look at lbfgs:"
   ]
  },
  {
   "cell_type": "code",
   "execution_count": 7,
   "metadata": {},
   "outputs": [
    {
     "name": "stdout",
     "output_type": "stream",
     "text": [
      "{1: -0.008885848823390718, 2: -0.008885848823390718, 3: -0.008885848823390718, 4: -0.008885848823390718, 5: -0.008885848823390718, 6: -0.008885848823390718, 7: -0.008885848823390718, 8: -0.008885848823390718, 9: -0.008885848823390718, 10: -0.008885848823390718, 11: -0.008885848823390718, 12: -0.008885848823390718, 13: -0.008885848823390718, 14: -0.008885848823390718, 15: -0.008885848823390718, 16: -0.008885848823390718, 17: -0.008885848823390718, 18: -0.008885848823390718}\n"
     ]
    }
   ],
   "source": [
    "from sklearn.neural_network import MLPRegressor\n",
    "solver_name = \"lbfgs\"\n",
    "\n",
    "errors = dict()\n",
    "for iter in range(1,19):\n",
    "    strName = f\"d+1_{solver_name} - {iter}.pkl\"\n",
    "    \n",
    "    errors[iter] = models[strName].score(x_test,y_test)\n",
    "\n",
    "print(errors)\n"
   ]
  },
  {
   "attachments": {},
   "cell_type": "markdown",
   "metadata": {},
   "source": [
    "These are some of the smallest negative scores we've seen, but they're negative and thus very bad."
   ]
  },
  {
   "cell_type": "code",
   "execution_count": 9,
   "metadata": {},
   "outputs": [
    {
     "data": {
      "image/png": "[encoded data removed]",
      "text/plain": [
       "<Figure size 640x480 with 1 Axes>"
      ]
     },
     "metadata": {},
     "output_type": "display_data"
    }
   ],
   "source": [
    "import matplotlib.pyplot as plt\n",
    "import math\n",
    "\n",
    "x_values = range(len(y_test))\n",
    "\n",
    "Y_Predict = models[\"d+1_lbfgs - 4.pkl\"].predict(x_test)\n",
    "\n",
    "plt.scatter(x_values[0:20],y_test[0:20])\n",
    "plt.scatter(x_values[0:20],Y_Predict[0:20])\n",
    "#plt.ylim(-0.02,0.02)\n",
    "plt.show()"
   ]
  },
  {
   "attachments": {},
   "cell_type": "markdown",
   "metadata": {},
   "source": [
    "OK, that didn't work"
   ]
  }
 ],
 "metadata": {
  "kernelspec": {
   "display_name": "nlp-headlines",
   "language": "python",
   "name": "python3"
  },
  "language_info": {
   "codemirror_mode": {
    "name": "ipython",
    "version": 3
   },
   "file_extension": ".py",
   "mimetype": "text/x-python",
   "name": "python",
   "nbconvert_exporter": "python",
   "pygments_lexer": "ipython3",
   "version": "3.11.2"
  },
  "orig_nbformat": 4
 },
 "nbformat": 4,
 "nbformat_minor": 2
}
